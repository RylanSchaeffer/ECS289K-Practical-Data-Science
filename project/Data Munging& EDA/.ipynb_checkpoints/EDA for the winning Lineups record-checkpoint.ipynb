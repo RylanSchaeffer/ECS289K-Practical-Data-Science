{
 "cells": [
  {
   "cell_type": "code",
   "execution_count": 24,
   "metadata": {
    "collapsed": true
   },
   "outputs": [],
   "source": [
    "import glob\n",
    "import math\n",
    "import matplotlib.pyplot as plt\n",
    "import numpy\n",
    "import pandas\n",
    "import pickle\n",
    "\n",
    "pandas.set_option('display.width', 600)"
   ]
  },
  {
   "cell_type": "code",
   "execution_count": 25,
   "metadata": {
    "collapsed": true
   },
   "outputs": [],
   "source": [
    "with open('../Data/allplayerFantasyGameLogs.pickle', 'rb') as handle:\n",
    "    games = pickle.load(handle)"
   ]
  },
  {
   "cell_type": "code",
   "execution_count": 26,
   "metadata": {
    "collapsed": false
   },
   "outputs": [
    {
     "data": {
      "text/html": [
       "<div>\n",
       "<table border=\"1\" class=\"dataframe\">\n",
       "  <thead>\n",
       "    <tr style=\"text-align: right;\">\n",
       "      <th></th>\n",
       "      <th>GAME_DATE</th>\n",
       "      <th>SEASON_ID</th>\n",
       "      <th>Player_ID</th>\n",
       "      <th>Game_ID</th>\n",
       "      <th>MATCHUP</th>\n",
       "      <th>WL</th>\n",
       "      <th>MIN</th>\n",
       "      <th>FGM</th>\n",
       "      <th>FGA</th>\n",
       "      <th>FG_PCT</th>\n",
       "      <th>...</th>\n",
       "      <th>PTS</th>\n",
       "      <th>PLUS_MINUS</th>\n",
       "      <th>DouBL</th>\n",
       "      <th>TriBL</th>\n",
       "      <th>FanPTs</th>\n",
       "      <th>fullName</th>\n",
       "      <th>position1</th>\n",
       "      <th>Team</th>\n",
       "      <th>OpponentTeam</th>\n",
       "      <th>HomeGame</th>\n",
       "    </tr>\n",
       "  </thead>\n",
       "  <tbody>\n",
       "    <tr>\n",
       "      <th>0</th>\n",
       "      <td>2015-10-27</td>\n",
       "      <td>22015</td>\n",
       "      <td>101126</td>\n",
       "      <td>0021500003</td>\n",
       "      <td>NOP @ GSW</td>\n",
       "      <td>L</td>\n",
       "      <td>19</td>\n",
       "      <td>0</td>\n",
       "      <td>1</td>\n",
       "      <td>0.000</td>\n",
       "      <td>...</td>\n",
       "      <td>0</td>\n",
       "      <td>-21</td>\n",
       "      <td>False</td>\n",
       "      <td>False</td>\n",
       "      <td>6.50</td>\n",
       "      <td>Nate Robinson</td>\n",
       "      <td>PG</td>\n",
       "      <td>NOP</td>\n",
       "      <td>GSW</td>\n",
       "      <td>0</td>\n",
       "    </tr>\n",
       "    <tr>\n",
       "      <th>1</th>\n",
       "      <td>2015-10-27</td>\n",
       "      <td>22015</td>\n",
       "      <td>202389</td>\n",
       "      <td>0021500002</td>\n",
       "      <td>CLE @ CHI</td>\n",
       "      <td>L</td>\n",
       "      <td>21</td>\n",
       "      <td>2</td>\n",
       "      <td>6</td>\n",
       "      <td>0.333</td>\n",
       "      <td>...</td>\n",
       "      <td>5</td>\n",
       "      <td>-1</td>\n",
       "      <td>False</td>\n",
       "      <td>False</td>\n",
       "      <td>16.75</td>\n",
       "      <td>Timofey Mozgov</td>\n",
       "      <td>C</td>\n",
       "      <td>CLE</td>\n",
       "      <td>CHI</td>\n",
       "      <td>0</td>\n",
       "    </tr>\n",
       "    <tr>\n",
       "      <th>2</th>\n",
       "      <td>2015-10-27</td>\n",
       "      <td>22015</td>\n",
       "      <td>202087</td>\n",
       "      <td>0021500003</td>\n",
       "      <td>NOP @ GSW</td>\n",
       "      <td>L</td>\n",
       "      <td>27</td>\n",
       "      <td>4</td>\n",
       "      <td>5</td>\n",
       "      <td>0.800</td>\n",
       "      <td>...</td>\n",
       "      <td>8</td>\n",
       "      <td>-8</td>\n",
       "      <td>False</td>\n",
       "      <td>False</td>\n",
       "      <td>20.25</td>\n",
       "      <td>Alonzo Gee</td>\n",
       "      <td>SF</td>\n",
       "      <td>NOP</td>\n",
       "      <td>GSW</td>\n",
       "      <td>0</td>\n",
       "    </tr>\n",
       "    <tr>\n",
       "      <th>3</th>\n",
       "      <td>2015-10-27</td>\n",
       "      <td>22015</td>\n",
       "      <td>2581</td>\n",
       "      <td>0021500001</td>\n",
       "      <td>DET @ ATL</td>\n",
       "      <td>W</td>\n",
       "      <td>16</td>\n",
       "      <td>1</td>\n",
       "      <td>6</td>\n",
       "      <td>0.167</td>\n",
       "      <td>...</td>\n",
       "      <td>3</td>\n",
       "      <td>-14</td>\n",
       "      <td>False</td>\n",
       "      <td>False</td>\n",
       "      <td>10.00</td>\n",
       "      <td>Steve Blake</td>\n",
       "      <td>PG</td>\n",
       "      <td>DET</td>\n",
       "      <td>ATL</td>\n",
       "      <td>0</td>\n",
       "    </tr>\n",
       "    <tr>\n",
       "      <th>4</th>\n",
       "      <td>2015-10-27</td>\n",
       "      <td>22015</td>\n",
       "      <td>202710</td>\n",
       "      <td>0021500002</td>\n",
       "      <td>CHI vs. CLE</td>\n",
       "      <td>W</td>\n",
       "      <td>37</td>\n",
       "      <td>6</td>\n",
       "      <td>14</td>\n",
       "      <td>0.429</td>\n",
       "      <td>...</td>\n",
       "      <td>17</td>\n",
       "      <td>3</td>\n",
       "      <td>False</td>\n",
       "      <td>False</td>\n",
       "      <td>32.25</td>\n",
       "      <td>Jimmy Butler</td>\n",
       "      <td>SG</td>\n",
       "      <td>CHI</td>\n",
       "      <td>CLE</td>\n",
       "      <td>1</td>\n",
       "    </tr>\n",
       "  </tbody>\n",
       "</table>\n",
       "<p>5 rows × 34 columns</p>\n",
       "</div>"
      ],
      "text/plain": [
       "   GAME_DATE SEASON_ID  Player_ID     Game_ID      MATCHUP WL  MIN  FGM  FGA  FG_PCT    ...     PTS  PLUS_MINUS  DouBL  TriBL  FanPTs        fullName  position1  Team  OpponentTeam  HomeGame\n",
       "0 2015-10-27     22015     101126  0021500003    NOP @ GSW  L   19    0    1   0.000    ...       0         -21  False  False    6.50   Nate Robinson         PG   NOP           GSW         0\n",
       "1 2015-10-27     22015     202389  0021500002    CLE @ CHI  L   21    2    6   0.333    ...       5          -1  False  False   16.75  Timofey Mozgov          C   CLE           CHI         0\n",
       "2 2015-10-27     22015     202087  0021500003    NOP @ GSW  L   27    4    5   0.800    ...       8          -8  False  False   20.25      Alonzo Gee         SF   NOP           GSW         0\n",
       "3 2015-10-27     22015       2581  0021500001    DET @ ATL  W   16    1    6   0.167    ...       3         -14  False  False   10.00     Steve Blake         PG   DET           ATL         0\n",
       "4 2015-10-27     22015     202710  0021500002  CHI vs. CLE  W   37    6   14   0.429    ...      17           3  False  False   32.25    Jimmy Butler         SG   CHI           CLE         1\n",
       "\n",
       "[5 rows x 34 columns]"
      ]
     },
     "execution_count": 26,
     "metadata": {},
     "output_type": "execute_result"
    }
   ],
   "source": [
    "games.head()"
   ]
  },
  {
   "cell_type": "code",
   "execution_count": 27,
   "metadata": {
    "collapsed": true
   },
   "outputs": [],
   "source": [
    "with open('../Data/PlayerFeaturesTable_02_29_2016.pickle', 'rb') as handle:\n",
    "    players = allplayerFeaturesTable = pickle.load(handle)"
   ]
  },
  {
   "cell_type": "code",
   "execution_count": 28,
   "metadata": {
    "collapsed": true
   },
   "outputs": [],
   "source": [
    "pastwinners = pandas.read_csv('../Scraping/NumberFire/numberFireBestTeam.csv')\n",
    "# strip '$' from Salary, convert to integer\n",
    "pastwinners['Salary'] = pastwinners['Salary'].map(lambda ele: int(ele.replace('$', '')))"
   ]
  },
  {
   "cell_type": "code",
   "execution_count": 29,
   "metadata": {
    "collapsed": false
   },
   "outputs": [
    {
     "name": "stdout",
     "output_type": "stream",
     "text": [
      "       Date              PlayerName Position  Salary  Pts   R   A  S  T   B  FP\n",
      "0  11-17-15  Hassan Whiteside (MIA)        C    8100   22  14   0  0  4  10  62\n",
      "1  11-17-15    Reggie Jackson (DET)       PG    7700   23   6  12  1  5   0  50\n",
      "2  11-17-15       Brook Lopez (BKN)        C    7100   24  10   1  1  1   3  47\n",
      "3  11-17-15      Kemba Walker (CHA)       PG    6400   31   4   1  3  1   1  46\n",
      "4  11-17-15  Danilo Gallinari (DEN)       SF    6200   32   8   8  0  3   0  55\n"
     ]
    }
   ],
   "source": [
    "print pastwinners.head()"
   ]
  },
  {
   "cell_type": "code",
   "execution_count": 30,
   "metadata": {
    "collapsed": true
   },
   "outputs": [],
   "source": [
    "# split past winners by date\n",
    "gb = pastwinners.groupby('Date')\n",
    "groups = [gb.get_group(x) for x in gb.groups]"
   ]
  },
  {
   "cell_type": "code",
   "execution_count": 31,
   "metadata": {
    "collapsed": false
   },
   "outputs": [
    {
     "data": {
      "text/html": [
       "<div>\n",
       "<table border=\"1\" class=\"dataframe\">\n",
       "  <thead>\n",
       "    <tr style=\"text-align: right;\">\n",
       "      <th></th>\n",
       "      <th>Date</th>\n",
       "      <th>PG</th>\n",
       "      <th>PF</th>\n",
       "      <th>C</th>\n",
       "      <th>SG</th>\n",
       "      <th>SF</th>\n",
       "    </tr>\n",
       "  </thead>\n",
       "  <tbody>\n",
       "    <tr>\n",
       "      <th>0</th>\n",
       "      <td>11-22-15</td>\n",
       "      <td>2</td>\n",
       "      <td>2</td>\n",
       "      <td>2</td>\n",
       "      <td>1</td>\n",
       "      <td>1</td>\n",
       "    </tr>\n",
       "    <tr>\n",
       "      <th>1</th>\n",
       "      <td>11-23-15</td>\n",
       "      <td>3</td>\n",
       "      <td>2</td>\n",
       "      <td>1</td>\n",
       "      <td>1</td>\n",
       "      <td>1</td>\n",
       "    </tr>\n",
       "    <tr>\n",
       "      <th>2</th>\n",
       "      <td>2-18-16</td>\n",
       "      <td>3</td>\n",
       "      <td>2</td>\n",
       "      <td>1</td>\n",
       "      <td>1</td>\n",
       "      <td>1</td>\n",
       "    </tr>\n",
       "    <tr>\n",
       "      <th>3</th>\n",
       "      <td>1-27-16</td>\n",
       "      <td>1</td>\n",
       "      <td>2</td>\n",
       "      <td>2</td>\n",
       "      <td>2</td>\n",
       "      <td>1</td>\n",
       "    </tr>\n",
       "    <tr>\n",
       "      <th>4</th>\n",
       "      <td>1-24-16</td>\n",
       "      <td>1</td>\n",
       "      <td>1</td>\n",
       "      <td>1</td>\n",
       "      <td>2</td>\n",
       "      <td>3</td>\n",
       "    </tr>\n",
       "  </tbody>\n",
       "</table>\n",
       "</div>"
      ],
      "text/plain": [
       "       Date PG PF  C SG SF\n",
       "0  11-22-15  2  2  2  1  1\n",
       "1  11-23-15  3  2  1  1  1\n",
       "2   2-18-16  3  2  1  1  1\n",
       "3   1-27-16  1  2  2  2  1\n",
       "4   1-24-16  1  1  1  2  3"
      ]
     },
     "execution_count": 31,
     "metadata": {},
     "output_type": "execute_result"
    }
   ],
   "source": [
    "# calculate distribution of positions each week\n",
    "df = pandas.DataFrame()\n",
    "\n",
    "for row_num in range(0, len(groups)):\n",
    "    position_counts = groups[row_num]['Position'].value_counts(sort=True)\n",
    "    date = groups[row_num]['Date'].unique()\n",
    "    lineup = pandas.Series(date).append(position_counts)\n",
    "    df[row_num] = lineup\n",
    "\n",
    "df = df.transpose()\n",
    "df.columns = ['Date', 'PG', 'PF', 'C', 'SG', 'SF']\n",
    "df.head()"
   ]
  },
  {
   "cell_type": "code",
   "execution_count": 32,
   "metadata": {
    "collapsed": false
   },
   "outputs": [
    {
     "name": "stdout",
     "output_type": "stream",
     "text": [
      "Order: Mean, STD, Min, Max\n",
      "PG 1.90909090909 0.695640772178 1 3\n",
      "PF 1.65151515152 0.644322524169 1 3\n",
      "C 1.40909090909 0.495433694307 1 2\n",
      "SG 1.43939393939 0.585170267892 1 3\n",
      "SF 1.54545454545 0.612229674898 1 3\n"
     ]
    }
   ],
   "source": [
    "# for each position, calculate average, sd, min and max\n",
    "print 'Order: Mean, STD, Min, Max'\n",
    "for pos in ['PG', 'PF', 'C', 'SG', 'SF']:\n",
    "    print pos  + ' ' + str(df[pos].mean()) + ' ' + str(df[pos].std())+ ' ' + str(df[pos].min()) + ' ' + str(df[pos].max())"
   ]
  },
  {
   "cell_type": "code",
   "execution_count": 33,
   "metadata": {
    "collapsed": false
   },
   "outputs": [
    {
     "name": "stdout",
     "output_type": "stream",
     "text": [
      "[49200 49000 49900 50000 48500 49400 49200 49700 48900 49500 49700 48200\n",
      " 49400 49800 49700 49600 50000 49100 49700 50000 49800 49100 49700 48800\n",
      " 50000 49900 49900 49900 50000 49500 49900 50000 49300 49900 49500 49700\n",
      " 49900 49900 49700 49900 49700 49800 48500 49800 48100 49800 49600 49500\n",
      " 48700 49800 49800 49100 48900 49500 49600 49700 49100 49500 49400 49900\n",
      " 50000 49600 49600 49900 49200 49600]\n"
     ]
    }
   ],
   "source": [
    "# consider total cost by date\n",
    "weeklycost = numpy.array([group['Salary'].sum() for group in groups])\n",
    "print weeklycost"
   ]
  },
  {
   "cell_type": "code",
   "execution_count": 34,
   "metadata": {
    "collapsed": false
   },
   "outputs": [
    {
     "name": "stdout",
     "output_type": "stream",
     "text": [
      "49522.7272727\n",
      "448.159689662\n"
     ]
    }
   ],
   "source": [
    "# consider mean and std of winning lineup cost\n",
    "print weeklycost.mean()\n",
    "print weeklycost.std()"
   ]
  },
  {
   "cell_type": "code",
   "execution_count": 35,
   "metadata": {
    "collapsed": false
   },
   "outputs": [
    {
     "data": {
      "text/html": [
       "<div>\n",
       "<table border=\"1\" class=\"dataframe\">\n",
       "  <thead>\n",
       "    <tr style=\"text-align: right;\">\n",
       "      <th></th>\n",
       "      <th>Date</th>\n",
       "      <th>GID</th>\n",
       "      <th>Pos</th>\n",
       "      <th>Name</th>\n",
       "      <th>Starter</th>\n",
       "      <th>DK Pts</th>\n",
       "      <th>DK Salary</th>\n",
       "      <th>Team</th>\n",
       "      <th>H/A</th>\n",
       "      <th>Oppt</th>\n",
       "      <th>Team Score</th>\n",
       "      <th>Oppt Score</th>\n",
       "      <th>Minutes</th>\n",
       "      <th>Stat line</th>\n",
       "    </tr>\n",
       "  </thead>\n",
       "  <tbody>\n",
       "    <tr>\n",
       "      <th>0</th>\n",
       "      <td>20151116</td>\n",
       "      <td>4382</td>\n",
       "      <td>PG</td>\n",
       "      <td>Knight, Brandon</td>\n",
       "      <td>1</td>\n",
       "      <td>78.00</td>\n",
       "      <td>7000</td>\n",
       "      <td>pho</td>\n",
       "      <td>H</td>\n",
       "      <td>lal</td>\n",
       "      <td>120</td>\n",
       "      <td>101</td>\n",
       "      <td>40.78</td>\n",
       "      <td>30pt 10rb 15as 4st 2to 3trey 11-23fg 5-7ft</td>\n",
       "    </tr>\n",
       "    <tr>\n",
       "      <th>1</th>\n",
       "      <td>20151116</td>\n",
       "      <td>4079</td>\n",
       "      <td>PG</td>\n",
       "      <td>Westbrook, Russell</td>\n",
       "      <td>1</td>\n",
       "      <td>72.00</td>\n",
       "      <td>12200</td>\n",
       "      <td>okc</td>\n",
       "      <td>A</td>\n",
       "      <td>mem</td>\n",
       "      <td>114</td>\n",
       "      <td>122</td>\n",
       "      <td>38.53</td>\n",
       "      <td>40pt 4rb 14as 3st 8to 5trey 13-19fg 9-13ft</td>\n",
       "    </tr>\n",
       "    <tr>\n",
       "      <th>2</th>\n",
       "      <td>20151116</td>\n",
       "      <td>4523</td>\n",
       "      <td>PG</td>\n",
       "      <td>Lillard, Damian</td>\n",
       "      <td>1</td>\n",
       "      <td>47.75</td>\n",
       "      <td>8700</td>\n",
       "      <td>por</td>\n",
       "      <td>A</td>\n",
       "      <td>sas</td>\n",
       "      <td>80</td>\n",
       "      <td>93</td>\n",
       "      <td>41.97</td>\n",
       "      <td>27pt 7rb 6as 1st 1bl 3to 1trey 10-21fg 6-6ft</td>\n",
       "    </tr>\n",
       "    <tr>\n",
       "      <th>3</th>\n",
       "      <td>20151116</td>\n",
       "      <td>3979</td>\n",
       "      <td>PG</td>\n",
       "      <td>Conley, Mike</td>\n",
       "      <td>1</td>\n",
       "      <td>46.50</td>\n",
       "      <td>6000</td>\n",
       "      <td>mem</td>\n",
       "      <td>H</td>\n",
       "      <td>okc</td>\n",
       "      <td>122</td>\n",
       "      <td>114</td>\n",
       "      <td>31.38</td>\n",
       "      <td>22pt 4rb 9as 2st 4trey 8-13fg 2-3ft</td>\n",
       "    </tr>\n",
       "    <tr>\n",
       "      <th>4</th>\n",
       "      <td>20151116</td>\n",
       "      <td>4073</td>\n",
       "      <td>PG</td>\n",
       "      <td>Rose, Derrick</td>\n",
       "      <td>1</td>\n",
       "      <td>41.50</td>\n",
       "      <td>5900</td>\n",
       "      <td>chi</td>\n",
       "      <td>H</td>\n",
       "      <td>ind</td>\n",
       "      <td>96</td>\n",
       "      <td>95</td>\n",
       "      <td>33.22</td>\n",
       "      <td>23pt 2rb 6as 2st 1bl 2trey 9-18fg 3-4ft</td>\n",
       "    </tr>\n",
       "  </tbody>\n",
       "</table>\n",
       "</div>"
      ],
      "text/plain": [
       "       Date   GID Pos                Name  Starter  DK Pts  DK Salary Team H/A Oppt  Team Score  Oppt Score Minutes                                     Stat line\n",
       "0  20151116  4382  PG     Knight, Brandon        1   78.00       7000  pho   H  lal         120         101   40.78    30pt 10rb 15as 4st 2to 3trey 11-23fg 5-7ft\n",
       "1  20151116  4079  PG  Westbrook, Russell        1   72.00      12200  okc   A  mem         114         122   38.53    40pt 4rb 14as 3st 8to 5trey 13-19fg 9-13ft\n",
       "2  20151116  4523  PG     Lillard, Damian        1   47.75       8700  por   A  sas          80          93   41.97  27pt 7rb 6as 1st 1bl 3to 1trey 10-21fg 6-6ft\n",
       "3  20151116  3979  PG        Conley, Mike        1   46.50       6000  mem   H  okc         122         114   31.38           22pt 4rb 9as 2st 4trey 8-13fg 2-3ft\n",
       "4  20151116  4073  PG       Rose, Derrick        1   41.50       5900  chi   H  ind          96          95   33.22       23pt 2rb 6as 2st 1bl 2trey 9-18fg 3-4ft"
      ]
     },
     "execution_count": 35,
     "metadata": {},
     "output_type": "execute_result"
    }
   ],
   "source": [
    "df = pandas.read_csv('../Data/SalaryHistory/2015-11-16.csv', sep=';')\n",
    "# remove $ and , characters to convert salary to integer\n",
    "df['DK Salary'] = df['DK Salary'].map(lambda ele: int(ele.replace('$', '').replace(',','')))\n",
    "df.head()"
   ]
  },
  {
   "cell_type": "code",
   "execution_count": 14,
   "metadata": {
    "collapsed": false
   },
   "outputs": [
    {
     "data": {
      "text/html": [
       "<div>\n",
       "<table border=\"1\" class=\"dataframe\">\n",
       "  <thead>\n",
       "    <tr style=\"text-align: right;\">\n",
       "      <th></th>\n",
       "      <th>Date</th>\n",
       "      <th>PlayerName</th>\n",
       "      <th>Position</th>\n",
       "      <th>Salary</th>\n",
       "      <th>Pts</th>\n",
       "      <th>R</th>\n",
       "      <th>A</th>\n",
       "      <th>S</th>\n",
       "      <th>T</th>\n",
       "      <th>B</th>\n",
       "      <th>FP</th>\n",
       "    </tr>\n",
       "  </thead>\n",
       "  <tbody>\n",
       "    <tr>\n",
       "      <th>0</th>\n",
       "      <td>11-17-15</td>\n",
       "      <td>Hassan Whiteside (MIA)</td>\n",
       "      <td>C</td>\n",
       "      <td>8100</td>\n",
       "      <td>22</td>\n",
       "      <td>14</td>\n",
       "      <td>0</td>\n",
       "      <td>0</td>\n",
       "      <td>4</td>\n",
       "      <td>10</td>\n",
       "      <td>62.00</td>\n",
       "    </tr>\n",
       "    <tr>\n",
       "      <th>1</th>\n",
       "      <td>11-17-15</td>\n",
       "      <td>Reggie Jackson (DET)</td>\n",
       "      <td>PG</td>\n",
       "      <td>7700</td>\n",
       "      <td>23</td>\n",
       "      <td>6</td>\n",
       "      <td>12</td>\n",
       "      <td>1</td>\n",
       "      <td>5</td>\n",
       "      <td>0</td>\n",
       "      <td>50.00</td>\n",
       "    </tr>\n",
       "    <tr>\n",
       "      <th>2</th>\n",
       "      <td>11-17-15</td>\n",
       "      <td>Brook Lopez (BKN)</td>\n",
       "      <td>C</td>\n",
       "      <td>7100</td>\n",
       "      <td>24</td>\n",
       "      <td>10</td>\n",
       "      <td>1</td>\n",
       "      <td>1</td>\n",
       "      <td>1</td>\n",
       "      <td>3</td>\n",
       "      <td>47.00</td>\n",
       "    </tr>\n",
       "    <tr>\n",
       "      <th>3</th>\n",
       "      <td>11-17-15</td>\n",
       "      <td>Kemba Walker (CHA)</td>\n",
       "      <td>PG</td>\n",
       "      <td>6400</td>\n",
       "      <td>31</td>\n",
       "      <td>4</td>\n",
       "      <td>1</td>\n",
       "      <td>3</td>\n",
       "      <td>1</td>\n",
       "      <td>1</td>\n",
       "      <td>46.00</td>\n",
       "    </tr>\n",
       "    <tr>\n",
       "      <th>4</th>\n",
       "      <td>11-17-15</td>\n",
       "      <td>Danilo Gallinari (DEN)</td>\n",
       "      <td>SF</td>\n",
       "      <td>6200</td>\n",
       "      <td>32</td>\n",
       "      <td>8</td>\n",
       "      <td>8</td>\n",
       "      <td>0</td>\n",
       "      <td>3</td>\n",
       "      <td>0</td>\n",
       "      <td>55.00</td>\n",
       "    </tr>\n",
       "    <tr>\n",
       "      <th>5</th>\n",
       "      <td>11-17-15</td>\n",
       "      <td>Kristaps Porzingis (NY)</td>\n",
       "      <td>PF</td>\n",
       "      <td>5900</td>\n",
       "      <td>29</td>\n",
       "      <td>11</td>\n",
       "      <td>0</td>\n",
       "      <td>0</td>\n",
       "      <td>1</td>\n",
       "      <td>1</td>\n",
       "      <td>46.75</td>\n",
       "    </tr>\n",
       "    <tr>\n",
       "      <th>6</th>\n",
       "      <td>11-17-15</td>\n",
       "      <td>Will Barton (DEN)</td>\n",
       "      <td>SG</td>\n",
       "      <td>4700</td>\n",
       "      <td>17</td>\n",
       "      <td>7</td>\n",
       "      <td>2</td>\n",
       "      <td>1</td>\n",
       "      <td>1</td>\n",
       "      <td>2</td>\n",
       "      <td>35.75</td>\n",
       "    </tr>\n",
       "    <tr>\n",
       "      <th>7</th>\n",
       "      <td>11-17-15</td>\n",
       "      <td>Ersan Ilyasova (DET)</td>\n",
       "      <td>PF</td>\n",
       "      <td>3800</td>\n",
       "      <td>20</td>\n",
       "      <td>6</td>\n",
       "      <td>2</td>\n",
       "      <td>1</td>\n",
       "      <td>0</td>\n",
       "      <td>0</td>\n",
       "      <td>34.50</td>\n",
       "    </tr>\n",
       "  </tbody>\n",
       "</table>\n",
       "</div>"
      ],
      "text/plain": [
       "       Date               PlayerName Position  Salary  Pts   R   A  S  T   B  \\\n",
       "0  11-17-15   Hassan Whiteside (MIA)        C    8100   22  14   0  0  4  10   \n",
       "1  11-17-15     Reggie Jackson (DET)       PG    7700   23   6  12  1  5   0   \n",
       "2  11-17-15        Brook Lopez (BKN)        C    7100   24  10   1  1  1   3   \n",
       "3  11-17-15       Kemba Walker (CHA)       PG    6400   31   4   1  3  1   1   \n",
       "4  11-17-15   Danilo Gallinari (DEN)       SF    6200   32   8   8  0  3   0   \n",
       "5  11-17-15  Kristaps Porzingis (NY)       PF    5900   29  11   0  0  1   1   \n",
       "6  11-17-15        Will Barton (DEN)       SG    4700   17   7   2  1  1   2   \n",
       "7  11-17-15     Ersan Ilyasova (DET)       PF    3800   20   6   2  1  0   0   \n",
       "\n",
       "      FP  \n",
       "0  62.00  \n",
       "1  50.00  \n",
       "2  47.00  \n",
       "3  46.00  \n",
       "4  55.00  \n",
       "5  46.75  \n",
       "6  35.75  \n",
       "7  34.50  "
      ]
     },
     "execution_count": 14,
     "metadata": {},
     "output_type": "execute_result"
    }
   ],
   "source": [
    "pastwinners.loc[pastwinners['Date'] == '11-17-15']"
   ]
  },
  {
   "cell_type": "code",
   "execution_count": 42,
   "metadata": {
    "collapsed": false
   },
   "outputs": [
    {
     "name": "stdout",
     "output_type": "stream",
     "text": [
      "Number of Dates: 66\n",
      "Past Winners:           Frequency: \n",
      "John Wall (WSH)                  11\n",
      "Brook Lopez (BKN)                 9\n",
      "Chris Paul (LAC)                  8\n",
      "James Harden (HOU)                8\n",
      "Dwyane Wade (MIA)                 8\n",
      "DeMarcus Cousins (SAC)            8\n",
      "Kyle Lowry (TOR)                  7\n",
      "Stephen Curry (GS)                7\n",
      "Jimmy Butler (CHI)                6\n",
      "Paul Millsap (ATL)                6\n",
      "Giannis Antetokounmpo (MIL)       6\n",
      "Jerami Grant (PHI)                6\n",
      "Hassan Whiteside (MIA)            6\n",
      "Kevin Durant (OKC)                6\n",
      "Jrue Holiday (NO)                 6\n",
      "Thaddeus Young (BKN)              5\n",
      "Paul George (IND)                 5\n",
      "Pau Gasol (CHI)                   5\n",
      "Kemba Walker (CHA)                5\n",
      "Robin Lopez (NY)                  5\n",
      "Russell Westbrook (OKC)           5\n",
      "Serge Ibaka (OKC)                 5\n",
      "Anthony Davis (NO)                5\n",
      "Kenneth Faried (DEN)              5\n",
      "Michael Carter-Williams (MIL)     5\n",
      "Isaiah Thomas (BOS)               5\n",
      "Carmelo Anthony (NY)              4\n",
      "Luol Deng (MIA)                   4\n",
      "Reggie Jackson (DET)              4\n",
      "D'Angelo Russell (LAL)            4\n",
      "                                 ..\n",
      "Troy Daniels (CHA)                1\n",
      "Josh Smith (HOU)                  1\n",
      "Marco Belinelli (SAC)             1\n",
      "Mario Hezonja (ORL)               1\n",
      "Jusuf Nurkic (DEN)                1\n",
      "Nerlens Noel (PHI)                1\n",
      "Derrick Williams (NY)             1\n",
      "Drew Gooden (WSH)                 1\n",
      "Aaron Brooks (CHI)                1\n",
      "Omer Asik (NO)                    1\n",
      "Kris Humphries (PHX)              1\n",
      "Jason Smith (ORL)                 1\n",
      "E'Twaun Moore (CHI)               1\n",
      "Shelvin Mack (UTAH)               1\n",
      "Al-Farouq Aminu (POR)             1\n",
      "Larry Nance Jr. (LAL)             1\n",
      "Jose Calderon (NY)                1\n",
      "Marcus Morris (DET)               1\n",
      "Andrew Wiggins (MIN)              1\n",
      "Devin Booker (PHX)                1\n",
      "Tyler Zeller (BOS)                1\n",
      "Ersan Ilyasova (ORL)              1\n",
      "Dwight Powell (DAL)               1\n",
      "Rodney Hood (UTAH)                1\n",
      "Kobe Bryant (LAL)                 1\n",
      "Bradley Beal (WSH)                1\n",
      "Spencer Hawes (CHA)               1\n",
      "JaVale McGee (DAL)                1\n",
      "Wesley Johnson (LAC)              1\n",
      "Ed Davis (POR)                    1\n",
      "Name: PlayerName, dtype: int64\n"
     ]
    }
   ],
   "source": [
    "# look at popular past winners\n",
    "print 'Number of Dates: ' + str(len(pastwinners['Date'].unique()))\n",
    "print 'Past Winners:           Frequency: '\n",
    "print pastwinners['PlayerName'].value_counts()"
   ]
  },
  {
   "cell_type": "code",
   "execution_count": 16,
   "metadata": {
    "collapsed": false
   },
   "outputs": [
    {
     "data": {
      "text/html": [
       "<div>\n",
       "<table border=\"1\" class=\"dataframe\">\n",
       "  <thead>\n",
       "    <tr style=\"text-align: right;\">\n",
       "      <th></th>\n",
       "      <th>Date</th>\n",
       "      <th>GID</th>\n",
       "      <th>Pos</th>\n",
       "      <th>Name</th>\n",
       "      <th>Starter</th>\n",
       "      <th>DK Pts</th>\n",
       "      <th>DK Salary</th>\n",
       "      <th>Team</th>\n",
       "      <th>H/A</th>\n",
       "      <th>Oppt</th>\n",
       "      <th>Team Score</th>\n",
       "      <th>Oppt Score</th>\n",
       "      <th>Minutes</th>\n",
       "      <th>Stat line</th>\n",
       "    </tr>\n",
       "  </thead>\n",
       "  <tbody>\n",
       "    <tr>\n",
       "      <th>0</th>\n",
       "      <td>20160306</td>\n",
       "      <td>4224</td>\n",
       "      <td>SG</td>\n",
       "      <td>Harden, James</td>\n",
       "      <td>1</td>\n",
       "      <td>71.75</td>\n",
       "      <td>10500</td>\n",
       "      <td>hou</td>\n",
       "      <td>A</td>\n",
       "      <td>tor</td>\n",
       "      <td>113</td>\n",
       "      <td>107</td>\n",
       "      <td>42.68</td>\n",
       "      <td>40pt 5rb 14as 1st 1to 3trey 11-20fg 15-19ft</td>\n",
       "    </tr>\n",
       "    <tr>\n",
       "      <th>1</th>\n",
       "      <td>20160306</td>\n",
       "      <td>4079</td>\n",
       "      <td>PG</td>\n",
       "      <td>Westbrook, Russell</td>\n",
       "      <td>1</td>\n",
       "      <td>49.50</td>\n",
       "      <td>10800</td>\n",
       "      <td>okc</td>\n",
       "      <td>A</td>\n",
       "      <td>mil</td>\n",
       "      <td>104</td>\n",
       "      <td>96</td>\n",
       "      <td>38.83</td>\n",
       "      <td>15pt 10rb 11as 1st 1bl 7to 1trey 3-7fg 8-11ft</td>\n",
       "    </tr>\n",
       "    <tr>\n",
       "      <th>2</th>\n",
       "      <td>20160306</td>\n",
       "      <td>4369</td>\n",
       "      <td>PG</td>\n",
       "      <td>Jackson, Reggie</td>\n",
       "      <td>1</td>\n",
       "      <td>48.75</td>\n",
       "      <td>6600</td>\n",
       "      <td>det</td>\n",
       "      <td>H</td>\n",
       "      <td>por</td>\n",
       "      <td>123</td>\n",
       "      <td>103</td>\n",
       "      <td>34.08</td>\n",
       "      <td>30pt 1rb 9as 2st 1to 1trey 11-19fg 7-7ft</td>\n",
       "    </tr>\n",
       "    <tr>\n",
       "      <th>3</th>\n",
       "      <td>20160306</td>\n",
       "      <td>4885</td>\n",
       "      <td>SG</td>\n",
       "      <td>Booker, Devin</td>\n",
       "      <td>1</td>\n",
       "      <td>47.50</td>\n",
       "      <td>4800</td>\n",
       "      <td>pho</td>\n",
       "      <td>A</td>\n",
       "      <td>mem</td>\n",
       "      <td>109</td>\n",
       "      <td>100</td>\n",
       "      <td>42.82</td>\n",
       "      <td>27pt 2rb 9as 1st 1bl 3to 4trey 8-17fg 7-7ft</td>\n",
       "    </tr>\n",
       "    <tr>\n",
       "      <th>4</th>\n",
       "      <td>20160306</td>\n",
       "      <td>3891</td>\n",
       "      <td>PG</td>\n",
       "      <td>Lowry, Kyle</td>\n",
       "      <td>1</td>\n",
       "      <td>42.00</td>\n",
       "      <td>8800</td>\n",
       "      <td>tor</td>\n",
       "      <td>H</td>\n",
       "      <td>hou</td>\n",
       "      <td>107</td>\n",
       "      <td>113</td>\n",
       "      <td>38.28</td>\n",
       "      <td>17pt 4rb 9as 3st 3to 4trey 5-10fg 3-5ft</td>\n",
       "    </tr>\n",
       "  </tbody>\n",
       "</table>\n",
       "</div>"
      ],
      "text/plain": [
       "       Date   GID Pos                Name  Starter  DK Pts  DK Salary Team  \\\n",
       "0  20160306  4224  SG       Harden, James        1   71.75      10500  hou   \n",
       "1  20160306  4079  PG  Westbrook, Russell        1   49.50      10800  okc   \n",
       "2  20160306  4369  PG     Jackson, Reggie        1   48.75       6600  det   \n",
       "3  20160306  4885  SG       Booker, Devin        1   47.50       4800  pho   \n",
       "4  20160306  3891  PG         Lowry, Kyle        1   42.00       8800  tor   \n",
       "\n",
       "  H/A Oppt  Team Score  Oppt Score Minutes  \\\n",
       "0   A  tor         113         107   42.68   \n",
       "1   A  mil         104          96   38.83   \n",
       "2   H  por         123         103   34.08   \n",
       "3   A  mem         109         100   42.82   \n",
       "4   H  hou         107         113   38.28   \n",
       "\n",
       "                                       Stat line  \n",
       "0    40pt 5rb 14as 1st 1to 3trey 11-20fg 15-19ft  \n",
       "1  15pt 10rb 11as 1st 1bl 7to 1trey 3-7fg 8-11ft  \n",
       "2       30pt 1rb 9as 2st 1to 1trey 11-19fg 7-7ft  \n",
       "3    27pt 2rb 9as 1st 1bl 3to 4trey 8-17fg 7-7ft  \n",
       "4        17pt 4rb 9as 3st 3to 4trey 5-10fg 3-5ft  "
      ]
     },
     "execution_count": 16,
     "metadata": {},
     "output_type": "execute_result"
    }
   ],
   "source": [
    "# combine historical data into one dataframe\n",
    "\n",
    "list = []\n",
    "for file in glob.glob('../Data/SalaryHistory/*.csv'):\n",
    "    list.append(pandas.read_csv(file, sep=';'))\n",
    "\n",
    "pastsalaries = pandas.concat(list)\n",
    "\n",
    "# drop NA values\n",
    "pastsalaries = pastsalaries.dropna()\n",
    "\n",
    "# remove $ and , characters to convert salary to integer\n",
    "pastsalaries['DK Salary'] = pastsalaries['DK Salary'].astype(str).map(lambda ele: int(ele.replace('$', '').replace(',','')))\n",
    "\n",
    "pastsalaries.head()"
   ]
  },
  {
   "cell_type": "code",
   "execution_count": 17,
   "metadata": {
    "collapsed": false
   },
   "outputs": [
    {
     "data": {
      "text/plain": [
       "0.6593116497213225"
      ]
     },
     "execution_count": 17,
     "metadata": {},
     "output_type": "execute_result"
    }
   ],
   "source": [
    "# look at salary and DK points correlation across all players\n",
    "pastsalaries['DK Pts'].corr(pastsalaries['DK Salary'])"
   ]
  },
  {
   "cell_type": "code",
   "execution_count": 18,
   "metadata": {
    "collapsed": false
   },
   "outputs": [
    {
     "data": {
      "text/plain": [
       "0.53014724730430951"
      ]
     },
     "execution_count": 18,
     "metadata": {},
     "output_type": "execute_result"
    }
   ],
   "source": [
    "# look at salary and DK points correlation across past winners\n",
    "pastwinners['Pts'].corr(pastwinners['Salary'])"
   ]
  },
  {
   "cell_type": "code",
   "execution_count": 19,
   "metadata": {
    "collapsed": true
   },
   "outputs": [],
   "source": [
    "plt.scatter(pastsalaries['DK Salary'], pastsalaries['DK Pts'])\n",
    "plt.show()"
   ]
  },
  {
   "cell_type": "code",
   "execution_count": 20,
   "metadata": {
    "collapsed": false
   },
   "outputs": [
    {
     "name": "stderr",
     "output_type": "stream",
     "text": [
      "/usr/local/lib/python2.7/dist-packages/numpy/lib/function_base.py:2079: RuntimeWarning: Degrees of freedom <= 0 for slice\n",
      "  warnings.warn(\"Degrees of freedom <= 0 for slice\", RuntimeWarning)\n"
     ]
    }
   ],
   "source": [
    "# look to see whether some players' performance can be predicted from their salaries\n",
    "player_corr_coeff = []\n",
    "\n",
    "for player in pastsalaries['Name'].unique():\n",
    "    \n",
    "    salariesbyplayer = pastsalaries[pastsalaries['Name'] == player]\n",
    "    \n",
    "    #plt.scatter(salariesbyplayer['DK Salary'], salariesbyplayer['DK Pts'])\n",
    "    #plt.show()\n",
    "    \n",
    "    corr_coeff = salariesbyplayer['DK Pts'].corr(salariesbyplayer['DK Salary'])\n",
    "    \n",
    "    if not math.isnan(corr_coeff):\n",
    "    \n",
    "        player_corr_coeff.append((player, corr_coeff))\n",
    "    \n",
    "player_corr_coeff = sorted(player_corr_coeff, key=lambda x: x[1], reverse=True)\n",
    "\n",
    "# print results\n",
    "# for player in player_corr_coeff:\n",
    "#     print player[0] + ': ' + str(player[1])"
   ]
  },
  {
   "cell_type": "code",
   "execution_count": null,
   "metadata": {
    "collapsed": true
   },
   "outputs": [],
   "source": []
  },
  {
   "cell_type": "code",
   "execution_count": null,
   "metadata": {
    "collapsed": true
   },
   "outputs": [],
   "source": []
  },
  {
   "cell_type": "code",
   "execution_count": null,
   "metadata": {
    "collapsed": true
   },
   "outputs": [],
   "source": []
  },
  {
   "cell_type": "code",
   "execution_count": null,
   "metadata": {
    "collapsed": true
   },
   "outputs": [],
   "source": []
  },
  {
   "cell_type": "code",
   "execution_count": null,
   "metadata": {
    "collapsed": true
   },
   "outputs": [],
   "source": []
  },
  {
   "cell_type": "code",
   "execution_count": null,
   "metadata": {
    "collapsed": true
   },
   "outputs": [],
   "source": []
  }
 ],
 "metadata": {
  "kernelspec": {
   "display_name": "Python 2",
   "language": "python",
   "name": "python2"
  },
  "language_info": {
   "codemirror_mode": {
    "name": "ipython",
    "version": 2
   },
   "file_extension": ".py",
   "mimetype": "text/x-python",
   "name": "python",
   "nbconvert_exporter": "python",
   "pygments_lexer": "ipython2",
   "version": "2.7.6"
  }
 },
 "nbformat": 4,
 "nbformat_minor": 0
}

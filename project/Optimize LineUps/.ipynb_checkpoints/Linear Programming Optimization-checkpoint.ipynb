{
 "cells": [
  {
   "cell_type": "code",
   "execution_count": 4,
   "metadata": {
    "collapsed": false
   },
   "outputs": [],
   "source": [
    "%matplotlib inline\n",
    "import glob\n",
    "import matplotlib.pyplot as plt\n",
    "import pandas\n",
    "import pulp\n",
    "\n",
    "pandas.set_option('display.width', 1000)"
   ]
  },
  {
   "cell_type": "code",
   "execution_count": 5,
   "metadata": {
    "collapsed": false
   },
   "outputs": [
    {
     "data": {
      "text/html": [
       "<div>\n",
       "<table border=\"1\" class=\"dataframe\">\n",
       "  <thead>\n",
       "    <tr style=\"text-align: right;\">\n",
       "      <th></th>\n",
       "      <th>Date</th>\n",
       "      <th>GID</th>\n",
       "      <th>Pos</th>\n",
       "      <th>Name</th>\n",
       "      <th>Starter</th>\n",
       "      <th>DK Pts</th>\n",
       "      <th>DK Salary</th>\n",
       "      <th>Team</th>\n",
       "      <th>H/A</th>\n",
       "      <th>Oppt</th>\n",
       "      <th>Team Score</th>\n",
       "      <th>Oppt Score</th>\n",
       "      <th>Minutes</th>\n",
       "      <th>Stat line</th>\n",
       "    </tr>\n",
       "  </thead>\n",
       "  <tbody>\n",
       "    <tr>\n",
       "      <th>0</th>\n",
       "      <td>20160306</td>\n",
       "      <td>4224</td>\n",
       "      <td>SG</td>\n",
       "      <td>Harden, James</td>\n",
       "      <td>1</td>\n",
       "      <td>71.75</td>\n",
       "      <td>10500</td>\n",
       "      <td>hou</td>\n",
       "      <td>A</td>\n",
       "      <td>tor</td>\n",
       "      <td>113</td>\n",
       "      <td>107</td>\n",
       "      <td>42.68</td>\n",
       "      <td>40pt 5rb 14as 1st 1to 3trey 11-20fg 15-19ft</td>\n",
       "    </tr>\n",
       "    <tr>\n",
       "      <th>1</th>\n",
       "      <td>20160306</td>\n",
       "      <td>4079</td>\n",
       "      <td>PG</td>\n",
       "      <td>Westbrook, Russell</td>\n",
       "      <td>1</td>\n",
       "      <td>49.50</td>\n",
       "      <td>10800</td>\n",
       "      <td>okc</td>\n",
       "      <td>A</td>\n",
       "      <td>mil</td>\n",
       "      <td>104</td>\n",
       "      <td>96</td>\n",
       "      <td>38.83</td>\n",
       "      <td>15pt 10rb 11as 1st 1bl 7to 1trey 3-7fg 8-11ft</td>\n",
       "    </tr>\n",
       "    <tr>\n",
       "      <th>2</th>\n",
       "      <td>20160306</td>\n",
       "      <td>4369</td>\n",
       "      <td>PG</td>\n",
       "      <td>Jackson, Reggie</td>\n",
       "      <td>1</td>\n",
       "      <td>48.75</td>\n",
       "      <td>6600</td>\n",
       "      <td>det</td>\n",
       "      <td>H</td>\n",
       "      <td>por</td>\n",
       "      <td>123</td>\n",
       "      <td>103</td>\n",
       "      <td>34.08</td>\n",
       "      <td>30pt 1rb 9as 2st 1to 1trey 11-19fg 7-7ft</td>\n",
       "    </tr>\n",
       "    <tr>\n",
       "      <th>3</th>\n",
       "      <td>20160306</td>\n",
       "      <td>4885</td>\n",
       "      <td>SG</td>\n",
       "      <td>Booker, Devin</td>\n",
       "      <td>1</td>\n",
       "      <td>47.50</td>\n",
       "      <td>4800</td>\n",
       "      <td>pho</td>\n",
       "      <td>A</td>\n",
       "      <td>mem</td>\n",
       "      <td>109</td>\n",
       "      <td>100</td>\n",
       "      <td>42.82</td>\n",
       "      <td>27pt 2rb 9as 1st 1bl 3to 4trey 8-17fg 7-7ft</td>\n",
       "    </tr>\n",
       "    <tr>\n",
       "      <th>4</th>\n",
       "      <td>20160306</td>\n",
       "      <td>3891</td>\n",
       "      <td>PG</td>\n",
       "      <td>Lowry, Kyle</td>\n",
       "      <td>1</td>\n",
       "      <td>42.00</td>\n",
       "      <td>8800</td>\n",
       "      <td>tor</td>\n",
       "      <td>H</td>\n",
       "      <td>hou</td>\n",
       "      <td>107</td>\n",
       "      <td>113</td>\n",
       "      <td>38.28</td>\n",
       "      <td>17pt 4rb 9as 3st 3to 4trey 5-10fg 3-5ft</td>\n",
       "    </tr>\n",
       "  </tbody>\n",
       "</table>\n",
       "</div>"
      ],
      "text/plain": [
       "       Date   GID Pos                Name  Starter  DK Pts DK Salary Team H/A Oppt  Team Score  Oppt Score Minutes                                      Stat line\n",
       "0  20160306  4224  SG       Harden, James        1   71.75     10500  hou   A  tor         113         107   42.68    40pt 5rb 14as 1st 1to 3trey 11-20fg 15-19ft\n",
       "1  20160306  4079  PG  Westbrook, Russell        1   49.50     10800  okc   A  mil         104          96   38.83  15pt 10rb 11as 1st 1bl 7to 1trey 3-7fg 8-11ft\n",
       "2  20160306  4369  PG     Jackson, Reggie        1   48.75      6600  det   H  por         123         103   34.08       30pt 1rb 9as 2st 1to 1trey 11-19fg 7-7ft\n",
       "3  20160306  4885  SG       Booker, Devin        1   47.50      4800  pho   A  mem         109         100   42.82    27pt 2rb 9as 1st 1bl 3to 4trey 8-17fg 7-7ft\n",
       "4  20160306  3891  PG         Lowry, Kyle        1   42.00      8800  tor   H  hou         107         113   38.28        17pt 4rb 9as 3st 3to 4trey 5-10fg 3-5ft"
      ]
     },
     "execution_count": 5,
     "metadata": {},
     "output_type": "execute_result"
    }
   ],
   "source": [
    "# create dataframe of past salaries and past performance\n",
    "list = []\n",
    "for file in glob.glob('../Data/SalaryHistory/*.csv'):\n",
    "    list.append(pandas.read_csv(file, sep=';'))\n",
    "pastsalaries = pandas.concat(list)\n",
    "pastsalaries['DK Salary'] = pastsalaries['DK Salary'].astype(str).map(\n",
    "    lambda ele: ele if ele == 'nan' else int(ele.replace('$', '').replace(',', '')))\n",
    "del list\n",
    "\n",
    "pastsalaries.head()"
   ]
  },
  {
   "cell_type": "code",
   "execution_count": 6,
   "metadata": {
    "collapsed": false
   },
   "outputs": [],
   "source": [
    "# choose an arbitrary date\n",
    "date = 20160301"
   ]
  },
  {
   "cell_type": "code",
   "execution_count": 7,
   "metadata": {
    "collapsed": false
   },
   "outputs": [],
   "source": [
    "# isolate data for specific date\n",
    "specificDate = pastsalaries[pastsalaries['Date'] == date]\n",
    "\n",
    "# exclude players with missing salaries\n",
    "specificDate = specificDate[specificDate['DK Salary'] != 'nan']"
   ]
  },
  {
   "cell_type": "code",
   "execution_count": 8,
   "metadata": {
    "collapsed": false
   },
   "outputs": [],
   "source": [
    "# initialize variables\n",
    "playerPositions = specificDate['Pos'].tolist()\n",
    "teams = specificDate['Team'].tolist()\n",
    "playerNames = specificDate['Name'].tolist()\n",
    "playerTeams = tuple(specificDate['Team'].unique())\n",
    "playerCosts = tuple(specificDate['DK Salary'])\n",
    "playerPoints = tuple(specificDate['DK Pts'])\n",
    "salaryCap = 50000\n",
    "numOfPlayers = range(len(playerCosts))"
   ]
  },
  {
   "cell_type": "code",
   "execution_count": 9,
   "metadata": {
    "collapsed": true
   },
   "outputs": [],
   "source": [
    "# formulate linear programming problem\n",
    "problem = pulp.LpProblem(\"Optimal Lineup\", pulp.LpMaximize)"
   ]
  },
  {
   "cell_type": "code",
   "execution_count": 10,
   "metadata": {
    "collapsed": false
   },
   "outputs": [],
   "source": [
    "# create variable to represent each player\n",
    "playerInLineup = pulp.LpVariable.dicts(\"Players\", [i for i in numOfPlayers], 0, 1, cat=\"Binary\")"
   ]
  },
  {
   "cell_type": "code",
   "execution_count": 11,
   "metadata": {
    "collapsed": false
   },
   "outputs": [],
   "source": [
    "# create objective: maximize sum of player points\n",
    "problem += pulp.lpSum(playerInLineup[i] * playerPoints[i] for i in numOfPlayers)"
   ]
  },
  {
   "cell_type": "code",
   "execution_count": 12,
   "metadata": {
    "collapsed": false
   },
   "outputs": [],
   "source": [
    "# constraint: each player can only be chosen at most once\n",
    "for i in numOfPlayers:\n",
    "    problem += pulp.lpSum(playerInLineup[i]) <= 1"
   ]
  },
  {
   "cell_type": "code",
   "execution_count": 13,
   "metadata": {
    "collapsed": false
   },
   "outputs": [],
   "source": [
    "# constraints: sum of player costs must be less than or equal to the salary cap\n",
    "problem += sum(playerInLineup[i] * playerCosts[i] for i in numOfPlayers) <= salaryCap"
   ]
  },
  {
   "cell_type": "code",
   "execution_count": 14,
   "metadata": {
    "collapsed": true
   },
   "outputs": [],
   "source": [
    "# constraint: teams must have 8 players\n",
    "problem += pulp.lpSum(problem.variables()) == 8"
   ]
  },
  {
   "cell_type": "code",
   "execution_count": 15,
   "metadata": {
    "collapsed": true
   },
   "outputs": [],
   "source": [
    "# positions\n",
    "# constraint: 1 <= number of PG <= Max 3\n",
    "pointguards = tuple(specificDate['Pos'] == 'PG')\n",
    "problem += pulp.lpSum(playerInLineup[i] * pointguards[i] for i in numOfPlayers) >= 1\n",
    "problem += pulp.lpSum(playerInLineup[i] * pointguards[i] for i in numOfPlayers) <= 3\n",
    "\n",
    "# constraint: 1 <= number of SG <= Max 3\n",
    "shootguards = tuple(specificDate['Pos'] == 'SG')\n",
    "problem += pulp.lpSum(playerInLineup[i] * shootguards[i] for i in numOfPlayers) >= 1\n",
    "problem += pulp.lpSum(playerInLineup[i] * shootguards[i] for i in numOfPlayers) <= 3\n",
    "\n",
    "# constraint: 1 <= number of SF <= Max 3\n",
    "smallforward = tuple(specificDate['Pos'] == 'SF')\n",
    "problem += pulp.lpSum(smallforward[i] * playerInLineup[i] for i in numOfPlayers) >= 1\n",
    "problem += pulp.lpSum(smallforward[i] * playerInLineup[i] for i in numOfPlayers) <= 3\n",
    "\n",
    "# constraint: 1 <= number of PF <= Max 3\n",
    "powerfoward = tuple(specificDate['Pos'] == 'PF')\n",
    "problem += pulp.lpSum(powerfoward[i] * playerInLineup[i] for i in numOfPlayers) >= 1\n",
    "problem += pulp.lpSum(powerfoward[i] * playerInLineup[i] for i in numOfPlayers) <= 3\n",
    "\n",
    "# constraint: 1 <= number of C <= Max 2\n",
    "centers = tuple(specificDate['Pos'] == 'C')\n",
    "problem += pulp.lpSum(playerInLineup[i] * centers[i] for i in numOfPlayers) <= 2\n",
    "problem += pulp.lpSum(playerInLineup[i] * centers[i] for i in numOfPlayers) >= 1"
   ]
  },
  {
   "cell_type": "code",
   "execution_count": 16,
   "metadata": {
    "collapsed": false
   },
   "outputs": [
    {
     "name": "stdout",
     "output_type": "stream",
     "text": [
      "        Russell, D'Angelo, Position = PG, Price =  5600, Points = 55.50, Team = lal\n",
      "            Walker, Kemba, Position = PG, Price =  7700, Points = 50.00, Team = cha\n",
      "            Matthews, Wes, Position = SG, Price =  4600, Points = 34.75, Team = dal\n",
      "          Green, Draymond, Position = PF, Price =  8600, Points = 54.75, Team = gsw\n",
      "          Ilyasova, Ersan, Position = PF, Price =  4400, Points = 41.00, Team = orl\n",
      "             Johnson, Joe, Position = SF, Price =  5500, Points = 38.25, Team = mia\n",
      "        Whiteside, Hassan, Position =  C, Price =  8300, Points = 54.00, Team = mia\n",
      "            Bogut, Andrew, Position =  C, Price =  4400, Points = 36.75, Team = gsw\n",
      "\n",
      "Total Team Cost: 49100\n",
      "Total Team Points: 365.00\n"
     ]
    }
   ],
   "source": [
    "# calculated predicted lineup\n",
    "cost = 0\n",
    "points = 0\n",
    "\n",
    "predicted = set()\n",
    "if problem.solve() == 1:\n",
    "    for pos in range(len(numOfPlayers)):\n",
    "        if playerInLineup[pos].value() == 1:\n",
    "            name = playerNames[pos]\n",
    "            predicted.add(name)\n",
    "            cost += playerCosts[pos]\n",
    "            points += playerPoints[pos]\n",
    "            print '%25s, Position = %2s, Price = %5.f, Points = %3.2f, Team = %3s' \\\n",
    "                  % (playerNames[pos], playerPositions[pos], playerCosts[pos],\n",
    "                     playerPoints[pos], teams[pos])\n",
    "    print '\\nTotal Team Cost: %5d\\nTotal Team Points: %5.2f' % (cost, points)\n",
    "else:\n",
    "    print 'Error finding solution'"
   ]
  },
  {
   "cell_type": "code",
   "execution_count": 17,
   "metadata": {
    "collapsed": false
   },
   "outputs": [],
   "source": [
    "# create dataframe of past perfect lineups\n",
    "pastwinners = pandas.read_csv('../Scraping/NumberFire/numberFireBestTeam.csv')\n",
    "# # strip '$' from Salary, convert to integer\n",
    "pastwinners['Salary'] = pastwinners['Salary'].map(lambda ele: int(ele.replace('$', '')))"
   ]
  },
  {
   "cell_type": "code",
   "execution_count": 18,
   "metadata": {
    "collapsed": false
   },
   "outputs": [],
   "source": [
    "# convert date to alternative format to look up past winners\n",
    "date = str(int(date))\n",
    "day = date[6:8][1] if int(date[6:8]) < 10 else date[6:8]\n",
    "month = date[4:6][1] if int(date[4:6]) < 10 else date[4:6]\n",
    "year = date[2:4]\n",
    "date = month + '-' + day + '-' + year"
   ]
  },
  {
   "cell_type": "code",
   "execution_count": 19,
   "metadata": {
    "collapsed": false
   },
   "outputs": [
    {
     "name": "stdout",
     "output_type": "stream",
     "text": [
      "       Date              PlayerName Position  Salary  Pts   R  A  S  T  B     FP\n",
      "520  3-1-16     Draymond Green (GS)       PF    8600   15  13  9  4  5  1  54.75\n",
      "521  3-1-16  Hassan Whiteside (MIA)        C    8300   26  14  1  0  1  4  54.00\n",
      "522  3-1-16      Kemba Walker (CHA)       PG    8100   26   6  9  1  1  0  50.00\n",
      "523  3-1-16  D'Angelo Russell (LAL)       PG    5800   39   6  3  1  3  0  55.50\n",
      "524  3-1-16       Joe Johnson (MIA)       SF    5500   24   5  4  0  2  1  38.25\n",
      "525  3-1-16   Wesley Matthews (DAL)       SG    4600   21   5  2  2  0  0  34.75\n",
      "526  3-1-16       Andrew Bogut (GS)        C    4400   19   7  2  2  0  1  36.75\n",
      "527  3-1-16    Ersan Ilyasova (ORL)       PF    4400   22  10  0  2  0  0  41.00\n",
      "\n",
      "Total Team Cost: 49700\n",
      "Total Team Points: 365.00\n"
     ]
    }
   ],
   "source": [
    "# calculate ideal lineup\n",
    "ideal = set()\n",
    "for name in pastwinners[pastwinners['Date'] == date]['PlayerName']:\n",
    "    name = name.split()\n",
    "    name = name[1] + ', ' + name[0]\n",
    "    ideal.add(name)\n",
    "\n",
    "cost = sum(pastwinners[pastwinners['Date'] == date]['Salary'])\n",
    "points = sum(pastwinners[pastwinners['Date'] == date]['FP'])\n",
    "\n",
    "print pastwinners[pastwinners['Date'] == date].head(8)\n",
    "    \n",
    "print '\\nTotal Team Cost: %5d\\nTotal Team Points: %3.2f' % (cost, points)"
   ]
  },
  {
   "cell_type": "code",
   "execution_count": 20,
   "metadata": {
    "collapsed": false
   },
   "outputs": [
    {
     "data": {
      "text/html": [
       "<div>\n",
       "<table border=\"1\" class=\"dataframe\">\n",
       "  <thead>\n",
       "    <tr style=\"text-align: right;\">\n",
       "      <th></th>\n",
       "      <th>Date</th>\n",
       "      <th>NumberFire Cost</th>\n",
       "      <th>NumberFire Points</th>\n",
       "      <th>Predicted Cost</th>\n",
       "      <th>Predicted Points</th>\n",
       "    </tr>\n",
       "  </thead>\n",
       "  <tbody>\n",
       "    <tr>\n",
       "      <th>0</th>\n",
       "      <td>20151117</td>\n",
       "      <td>49900</td>\n",
       "      <td>377.00</td>\n",
       "      <td>49900</td>\n",
       "      <td>377.00</td>\n",
       "    </tr>\n",
       "    <tr>\n",
       "      <th>1</th>\n",
       "      <td>20151119</td>\n",
       "      <td>49700</td>\n",
       "      <td>330.75</td>\n",
       "      <td>49700</td>\n",
       "      <td>330.75</td>\n",
       "    </tr>\n",
       "    <tr>\n",
       "      <th>2</th>\n",
       "      <td>20151122</td>\n",
       "      <td>49200</td>\n",
       "      <td>375.25</td>\n",
       "      <td>49800</td>\n",
       "      <td>377.50</td>\n",
       "    </tr>\n",
       "    <tr>\n",
       "      <th>3</th>\n",
       "      <td>20151123</td>\n",
       "      <td>49000</td>\n",
       "      <td>386.00</td>\n",
       "      <td>49000</td>\n",
       "      <td>386.00</td>\n",
       "    </tr>\n",
       "    <tr>\n",
       "      <th>4</th>\n",
       "      <td>20151124</td>\n",
       "      <td>50000</td>\n",
       "      <td>351.50</td>\n",
       "      <td>50000</td>\n",
       "      <td>351.50</td>\n",
       "    </tr>\n",
       "  </tbody>\n",
       "</table>\n",
       "</div>"
      ],
      "text/plain": [
       "       Date  NumberFire Cost  NumberFire Points  Predicted Cost  Predicted Points\n",
       "0  20151117            49900             377.00           49900            377.00\n",
       "1  20151119            49700             330.75           49700            330.75\n",
       "2  20151122            49200             375.25           49800            377.50\n",
       "3  20151123            49000             386.00           49000            386.00\n",
       "4  20151124            50000             351.50           50000            351.50"
      ]
     },
     "execution_count": 20,
     "metadata": {},
     "output_type": "execute_result"
    }
   ],
   "source": [
    "# load data frame to compare outputs\n",
    "idealvspredicted = pandas.read_csv('../Data/idealversuspredicted.csv', index_col=0)\n",
    "idealvspredicted = idealvspredicted.sort_values('Date').reset_index(drop=True)\n",
    "idealvspredicted.head()"
   ]
  },
  {
   "cell_type": "code",
   "execution_count": 25,
   "metadata": {
    "collapsed": false
   },
   "outputs": [
    {
     "data": {
      "image/png": "[encoded data removed]",
      "text/plain": [
       "<matplotlib.figure.Figure at 0x7f3f86ae9610>"
      ]
     },
     "metadata": {},
     "output_type": "display_data"
    }
   ],
   "source": [
    "fig = plt.figure(figsize=(10,10))\n",
    "pointDiff = idealvspredicted['Predicted Points'] - idealvspredicted['NumberFire Points']\n",
    "pointDiff.plot.hist(alpha=0.5, bins=60)\n",
    "\n",
    "\n",
    "fig.savefig('test.png', bbox_inches='tight')"
   ]
  },
  {
   "cell_type": "code",
   "execution_count": 22,
   "metadata": {
    "collapsed": false
   },
   "outputs": [
    {
     "name": "stdout",
     "output_type": "stream",
     "text": [
      "Above par: 47.69%\n",
      "On par:    50.77%\n",
      "Below par: 1.54%\n"
     ]
    }
   ],
   "source": [
    "print 'Above par: %2.2f%%' % (100.0 * sum(pointDiff > 0)/len(pointDiff))\n",
    "print 'On par:    %2.2f%%' % (100.0 * sum(pointDiff == 0)/len(pointDiff))\n",
    "print 'Below par: %2.2f%%' % (100.0 * sum(pointDiff < 0)/len(pointDiff))"
   ]
  },
  {
   "cell_type": "code",
   "execution_count": null,
   "metadata": {
    "collapsed": true
   },
   "outputs": [],
   "source": []
  },
  {
   "cell_type": "code",
   "execution_count": null,
   "metadata": {
    "collapsed": true
   },
   "outputs": [],
   "source": []
  },
  {
   "cell_type": "code",
   "execution_count": null,
   "metadata": {
    "collapsed": true
   },
   "outputs": [],
   "source": []
  }
 ],
 "metadata": {
  "kernelspec": {
   "display_name": "Python 2",
   "language": "python",
   "name": "python2"
  },
  "language_info": {
   "codemirror_mode": {
    "name": "ipython",
    "version": 2
   },
   "file_extension": ".py",
   "mimetype": "text/x-python",
   "name": "python",
   "nbconvert_exporter": "python",
   "pygments_lexer": "ipython2",
   "version": "2.7.6"
  }
 },
 "nbformat": 4,
 "nbformat_minor": 0
}
